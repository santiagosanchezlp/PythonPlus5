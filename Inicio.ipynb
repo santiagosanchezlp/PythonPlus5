{
 "cells": [
  {
   "cell_type": "markdown",
   "metadata": {},
   "source": [
    "# <span style=\"color:green\"> 1 Actividad 5 por Python plus </span>\n",
    "<span style=\"color:green\">\n",
    "Siguiendo los lineamientos dados, grabá un video breve, de no más de cinco (5) minutos, en donde se explique el ejercicio asignado.\n",
    "Al finalizar copiá el enlace al video como respuesta a la tarea ACT 5 por Python plus \n",
    "IMPORTANTE: tenés 3 horas partir del momento en que te asignamos el enunciado.\n",
    "</span>"
   ]
  },
  {
   "cell_type": "markdown",
   "metadata": {},
   "source": [
    "\n",
    "# <span style=\"color:green\"> 2 Enunciado 11 </span>\n",
    "<span style=\"color:green\">\n",
    "Copiá el siguiente código al IDE que utilizás habitualmente y respondé las consignas de la siguiente\n",
    "sección. Para probar el código debés descargar el archivo: area_protegida.csv\n",
    "El archivo original está en el portal IG\n",
    "</span>"
   ]
  },
  {
   "cell_type": "markdown",
   "metadata": {},
   "source": [
    "<span style=\"color:green\">\n",
    "(a) Mostrá la ejecución del código y explicá qué hace. ¿Qué se almacena en las variables\n",
    "header, data?¿Por qué se hace la conversión a list?\n",
    "</span>"
   ]
  },
  {
   "cell_type": "code",
   "execution_count": 128,
   "metadata": {},
   "outputs": [
    {
     "name": "stdout",
     "output_type": "stream",
     "text": [
      "{'Reserva': 228, 'Parque': 102}\n",
      "{'Monumento': 12}\n"
     ]
    }
   ],
   "source": [
    "import csv\n",
    "file_route = \"area_protegida.csv\"\n",
    "\n",
    "def my_function(data, *args):\n",
    "    my_data = {}\n",
    "    for elem in args:\n",
    "        my_data[elem] = len([x for x in data if elem in x[6] ])\n",
    "    return my_data\n",
    "\n",
    "with open(file_route, encoding='utf-8') as data_set:\n",
    "    reader = csv.reader(data_set, delimiter=',')\n",
    "    header, data = next(reader), list(reader)\n",
    "    result = my_function(data, \"Reserva\", \"Parque\")\n",
    "    result2 = my_function(data, \"Monumento\")\n",
    "    print(result)\n",
    "    print(result2)"
   ]
  },
  {
   "cell_type": "markdown",
   "metadata": {},
   "source": [
    "Abre el archivo area_protegida.csv.\n",
    "Guarda como header el encabezado (primera fila con los nombre de los campos) y los siguientes registros como una lista.\n",
    "La conversión a lista es permite recorrer más de una vez el archivo, a diferencia de iterables que solo podrían ser recorridos una vez.\n",
    "La lista es recorrida 2 veces:\n",
    "1. result: Crea un diccionario donde las llaves serán los valores \"Reserva\" y \"Parque\". Por cada llave, que es una string, filtra las veces que forma parte del nombre del área protegida (gna) y luego calcula la cantidad de elementos filtrados.\n",
    "2. result2: similar a result, pero para el valor \"Monumento\"."
   ]
  },
  {
   "cell_type": "markdown",
   "metadata": {},
   "source": [
    "<span style=\"color:green\"> (b) Escribí una solución alternativa usando pandas. Mostrá la ejecución de tu versión y explicá en detalle qué hace. En esta versión,¿es necesario definir las variables header y data? ¿Por qué?</span>\n"
   ]
  },
  {
   "cell_type": "markdown",
   "metadata": {},
   "source": [
    "<span style=\"color:green\">\n",
    "Nota: La salida de la solución con pandas no es necesario que sea exactamente igual en\n",
    "cuanto a formato. Lo importante es que se muestren los datos filtrados de acuerdo con lo\n",
    "especificado en el código original.\n",
    "\n",
    "</span>"
   ]
  },
  {
   "cell_type": "code",
   "execution_count": 127,
   "metadata": {},
   "outputs": [
    {
     "data": {
      "text/plain": [
       "tipo_area\n",
       "reserva      228\n",
       "parque        93\n",
       "monumento     12\n",
       "Name: count, dtype: int64"
      ]
     },
     "execution_count": 127,
     "metadata": {},
     "output_type": "execute_result"
    }
   ],
   "source": [
    "import pandas as pd\n",
    "file_route = \"area_protegida.csv\"\n",
    "\n",
    "df_area_protegida = pd.read_csv(file_route)\n",
    "\n",
    "def my_function(data):\n",
    "    if 'Reserva' in data:\n",
    "        return 'reserva'\n",
    "    elif 'Parque' in data:\n",
    "        return 'parque'\n",
    "    elif 'Monumento' in data:\n",
    "        return 'monumento'\n",
    "\n",
    "df_area_protegida['tipo_area'] = df_area_protegida['gna'].apply(my_function)\n",
    "\n",
    "df_area_protegida.tipo_area.value_counts()"
   ]
  },
  {
   "cell_type": "markdown",
   "metadata": {},
   "source": [
    "La solución tiene un problema ya que algunos parques también son reservas"
   ]
  },
  {
   "cell_type": "code",
   "execution_count": 141,
   "metadata": {},
   "outputs": [
    {
     "data": {
      "text/plain": [
       "tipo_area\n",
       "Reserva             219\n",
       "Parque               93\n",
       "Monumento            12\n",
       "Parque y Reserva      9\n",
       "Name: count, dtype: int64"
      ]
     },
     "execution_count": 141,
     "metadata": {},
     "output_type": "execute_result"
    }
   ],
   "source": [
    "import pandas as pd\n",
    "file_route = \"area_protegida.csv\"\n",
    "df_area_protegida = pd.read_csv(file_route)\n",
    "\n",
    "def my_function(data):\n",
    "    if 'Parque' in data and 'Reserva' in data:\n",
    "        return 'Parque y Reserva'\n",
    "    elif 'Reserva' in data:\n",
    "        return 'Reserva'\n",
    "    elif 'Parque' in data:\n",
    "        return 'Parque'\n",
    "    elif 'Monumento' in data:\n",
    "        return 'Monumento'\n",
    "\n",
    "df_area_protegida['tipo_area'] = df_area_protegida['gna'].apply(my_function)\n",
    "df_area_protegida.tipo_area.value_counts()"
   ]
  },
  {
   "cell_type": "code",
   "execution_count": 140,
   "metadata": {},
   "outputs": [
    {
     "data": {
      "text/plain": [
       "tipo_area\n",
       "Reserva          219\n",
       "Parque            93\n",
       "                  74\n",
       "ReservaParque      9\n",
       "Name: count, dtype: int64"
      ]
     },
     "execution_count": 140,
     "metadata": {},
     "output_type": "execute_result"
    }
   ],
   "source": [
    "\n",
    "\n",
    "def my_function(data, *args):\n",
    "    tipo = \"\"\n",
    "    for elem in args:\n",
    "        if elem in data:\n",
    "            tipo = tipo + elem\n",
    "    return tipo\n",
    "\n",
    "\n",
    "df_area_protegida['tipo_area'] = df_area_protegida.apply(lambda x: my_function(x.gna, \"Reserva\", \"Parque\"), axis=1)\n",
    "df_area_protegida.tipo_area.value_counts()\n"
   ]
  },
  {
   "cell_type": "code",
   "execution_count": 138,
   "metadata": {},
   "outputs": [
    {
     "data": {
      "text/plain": [
       "tipo_area\n",
       "{'Monumento': 12}    395\n",
       "Name: count, dtype: int64"
      ]
     },
     "execution_count": 138,
     "metadata": {},
     "output_type": "execute_result"
    }
   ],
   "source": [
    "df_area_protegida['tipo_area'] = df_area_protegida.apply(lambda x: my_function(x.gna, \"Monumento\"), axis=1)\n",
    "df_area_protegida.tipo_area.value_counts()"
   ]
  },
  {
   "cell_type": "code",
   "execution_count": 132,
   "metadata": {},
   "outputs": [
    {
     "data": {
      "text/plain": [
       "tipo_area\n",
       "Reserva          219\n",
       "Parque            93\n",
       "                  62\n",
       "Monumento         12\n",
       "ReservaParque      9\n",
       "Name: count, dtype: int64"
      ]
     },
     "execution_count": 132,
     "metadata": {},
     "output_type": "execute_result"
    }
   ],
   "source": [
    "df_area_protegida['tipo_area'] = df_area_protegida.apply(lambda x: my_function(x.gna, \"Reserva\", \"Parque\", \"Monumento\"), axis=1)\n",
    "df_area_protegida.tipo_area.value_counts()"
   ]
  },
  {
   "cell_type": "code",
   "execution_count": 133,
   "metadata": {},
   "outputs": [
    {
     "name": "stdout",
     "output_type": "stream",
     "text": [
      "{'Reserva': 228, 'Parque': 102}\n",
      "{'Monumento': 12}\n"
     ]
    }
   ],
   "source": [
    "import pandas as pd\n",
    "file_route = \"area_protegida.csv\"\n",
    "\n",
    "df_area_protegida = pd.read_csv(file_route)\n",
    "\n",
    "def my_function(df, *args):\n",
    "    my_data = {}\n",
    "    for elem in args:\n",
    "        my_data[elem] = df_area_protegida.gna.str.contains(elem).sum()\n",
    "    return my_data\n",
    "\n",
    "result = my_function(df_area_protegida, \"Reserva\", \"Parque\")\n",
    "result2 = my_function(df_area_protegida, \"Monumento\")\n",
    "print(result)\n",
    "print(result2)"
   ]
  },
  {
   "cell_type": "markdown",
   "metadata": {},
   "source": [
    "<span style=\"color:green\">\n",
    "Teniendo en cuenta tu solución, respondé:\n",
    "</span>"
   ]
  },
  {
   "cell_type": "markdown",
   "metadata": {},
   "source": [
    "<span style=\"color:green\">\n",
    "(c) Mostrá en tu código algún objeto de tipo dataframe y otro de tipo Series.\n",
    "</span>\n"
   ]
  },
  {
   "cell_type": "code",
   "execution_count": 134,
   "metadata": {},
   "outputs": [
    {
     "data": {
      "text/plain": [
       "pandas.core.frame.DataFrame"
      ]
     },
     "execution_count": 134,
     "metadata": {},
     "output_type": "execute_result"
    }
   ],
   "source": [
    "type(df_area_protegida)"
   ]
  },
  {
   "cell_type": "code",
   "execution_count": 135,
   "metadata": {},
   "outputs": [
    {
     "data": {
      "text/plain": [
       "0      Sitio RAMSAR y Reserva Hemisférica\n",
       "1           Reserva Natural de la Defensa\n",
       "2                            Sitio Ramsar\n",
       "3                Parque Natural Municipal\n",
       "4                       Parque Provincial\n",
       "                      ...                \n",
       "390                       Parque Nacional\n",
       "391                       Parque Nacional\n",
       "392                      Reserva Nacional\n",
       "393         Reserva Natural de la Defensa\n",
       "394         Reserva Natural de la Defensa\n",
       "Name: gna, Length: 395, dtype: object"
      ]
     },
     "execution_count": 135,
     "metadata": {},
     "output_type": "execute_result"
    }
   ],
   "source": [
    "\n",
    "pd.Series(df_area_protegida.gna)"
   ]
  },
  {
   "cell_type": "code",
   "execution_count": 136,
   "metadata": {},
   "outputs": [
    {
     "data": {
      "text/plain": [
       "pandas.core.series.Series"
      ]
     },
     "execution_count": 136,
     "metadata": {},
     "output_type": "execute_result"
    }
   ],
   "source": [
    "type(df_area_protegida.gna)"
   ]
  },
  {
   "cell_type": "code",
   "execution_count": 142,
   "metadata": {},
   "outputs": [
    {
     "data": {
      "text/plain": [
       "pandas.core.series.Series"
      ]
     },
     "execution_count": 142,
     "metadata": {},
     "output_type": "execute_result"
    }
   ],
   "source": [
    "type(df_area_protegida.tipo_area)"
   ]
  },
  {
   "cell_type": "markdown",
   "metadata": {},
   "source": [
    "<span style=\"color:green\">\n",
    "(d) ¿De qué manera (usando pandas) podemos modificar los nombres de todas las columnas del dataset? Ejemplificá con el dataset dado, luego de quedarse con las primeras 7\n",
    "columnas\n",
    "</span>\n",
    "\n"
   ]
  },
  {
   "cell_type": "code",
   "execution_count": 143,
   "metadata": {},
   "outputs": [
    {
     "data": {
      "text/html": [
       "<div>\n",
       "<style scoped>\n",
       "    .dataframe tbody tr th:only-of-type {\n",
       "        vertical-align: middle;\n",
       "    }\n",
       "\n",
       "    .dataframe tbody tr th {\n",
       "        vertical-align: top;\n",
       "    }\n",
       "\n",
       "    .dataframe thead th {\n",
       "        text-align: right;\n",
       "    }\n",
       "</style>\n",
       "<table border=\"1\" class=\"dataframe\">\n",
       "  <thead>\n",
       "    <tr style=\"text-align: right;\">\n",
       "      <th></th>\n",
       "      <th>lat</th>\n",
       "      <th>lng</th>\n",
       "      <th>gid</th>\n",
       "      <th>entidad</th>\n",
       "      <th>objeto</th>\n",
       "      <th>fna</th>\n",
       "      <th>gna</th>\n",
       "    </tr>\n",
       "  </thead>\n",
       "  <tbody>\n",
       "    <tr>\n",
       "      <th>0</th>\n",
       "      <td>-53.546655</td>\n",
       "      <td>-68.041297</td>\n",
       "      <td>362</td>\n",
       "      <td>falso</td>\n",
       "      <td>Área protegida</td>\n",
       "      <td>Sitio RAMSAR y Reserva Hemisférica Costa Atlán...</td>\n",
       "      <td>Sitio RAMSAR y Reserva Hemisférica</td>\n",
       "    </tr>\n",
       "    <tr>\n",
       "      <th>1</th>\n",
       "      <td>-31.404445</td>\n",
       "      <td>-64.357709</td>\n",
       "      <td>157</td>\n",
       "      <td>falso</td>\n",
       "      <td>Área protegida</td>\n",
       "      <td>Reserva Natural de la Defensa La Calera</td>\n",
       "      <td>Reserva Natural de la Defensa</td>\n",
       "    </tr>\n",
       "    <tr>\n",
       "      <th>2</th>\n",
       "      <td>-32.245004</td>\n",
       "      <td>-60.734423</td>\n",
       "      <td>169</td>\n",
       "      <td>falso</td>\n",
       "      <td>Área protegida</td>\n",
       "      <td>Sitio Ramsar Delta del Parana</td>\n",
       "      <td>Sitio Ramsar</td>\n",
       "    </tr>\n",
       "  </tbody>\n",
       "</table>\n",
       "</div>"
      ],
      "text/plain": [
       "         lat        lng  gid entidad          objeto  \\\n",
       "0 -53.546655 -68.041297  362   falso  Área protegida   \n",
       "1 -31.404445 -64.357709  157   falso  Área protegida   \n",
       "2 -32.245004 -60.734423  169   falso  Área protegida   \n",
       "\n",
       "                                                 fna  \\\n",
       "0  Sitio RAMSAR y Reserva Hemisférica Costa Atlán...   \n",
       "1            Reserva Natural de la Defensa La Calera   \n",
       "2                      Sitio Ramsar Delta del Parana   \n",
       "\n",
       "                                  gna  \n",
       "0  Sitio RAMSAR y Reserva Hemisférica  \n",
       "1       Reserva Natural de la Defensa  \n",
       "2                        Sitio Ramsar  "
      ]
     },
     "execution_count": 143,
     "metadata": {},
     "output_type": "execute_result"
    }
   ],
   "source": [
    "df_area_protegida_seven_columns = df_area_protegida[df_area_protegida.columns[:7]]\n",
    "df_area_protegida_seven_columns.head(3)"
   ]
  },
  {
   "cell_type": "code",
   "execution_count": 144,
   "metadata": {},
   "outputs": [
    {
     "data": {
      "text/html": [
       "<div>\n",
       "<style scoped>\n",
       "    .dataframe tbody tr th:only-of-type {\n",
       "        vertical-align: middle;\n",
       "    }\n",
       "\n",
       "    .dataframe tbody tr th {\n",
       "        vertical-align: top;\n",
       "    }\n",
       "\n",
       "    .dataframe thead th {\n",
       "        text-align: right;\n",
       "    }\n",
       "</style>\n",
       "<table border=\"1\" class=\"dataframe\">\n",
       "  <thead>\n",
       "    <tr style=\"text-align: right;\">\n",
       "      <th></th>\n",
       "      <th>Latitud</th>\n",
       "      <th>Longitud</th>\n",
       "      <th>GID</th>\n",
       "      <th>Entidad</th>\n",
       "      <th>Objeto</th>\n",
       "      <th>FNA</th>\n",
       "      <th>GNA</th>\n",
       "    </tr>\n",
       "  </thead>\n",
       "  <tbody>\n",
       "    <tr>\n",
       "      <th>0</th>\n",
       "      <td>-53.546655</td>\n",
       "      <td>-68.041297</td>\n",
       "      <td>362</td>\n",
       "      <td>falso</td>\n",
       "      <td>Área protegida</td>\n",
       "      <td>Sitio RAMSAR y Reserva Hemisférica Costa Atlán...</td>\n",
       "      <td>Sitio RAMSAR y Reserva Hemisférica</td>\n",
       "    </tr>\n",
       "    <tr>\n",
       "      <th>1</th>\n",
       "      <td>-31.404445</td>\n",
       "      <td>-64.357709</td>\n",
       "      <td>157</td>\n",
       "      <td>falso</td>\n",
       "      <td>Área protegida</td>\n",
       "      <td>Reserva Natural de la Defensa La Calera</td>\n",
       "      <td>Reserva Natural de la Defensa</td>\n",
       "    </tr>\n",
       "    <tr>\n",
       "      <th>2</th>\n",
       "      <td>-32.245004</td>\n",
       "      <td>-60.734423</td>\n",
       "      <td>169</td>\n",
       "      <td>falso</td>\n",
       "      <td>Área protegida</td>\n",
       "      <td>Sitio Ramsar Delta del Parana</td>\n",
       "      <td>Sitio Ramsar</td>\n",
       "    </tr>\n",
       "  </tbody>\n",
       "</table>\n",
       "</div>"
      ],
      "text/plain": [
       "     Latitud   Longitud  GID Entidad          Objeto  \\\n",
       "0 -53.546655 -68.041297  362   falso  Área protegida   \n",
       "1 -31.404445 -64.357709  157   falso  Área protegida   \n",
       "2 -32.245004 -60.734423  169   falso  Área protegida   \n",
       "\n",
       "                                                 FNA  \\\n",
       "0  Sitio RAMSAR y Reserva Hemisférica Costa Atlán...   \n",
       "1            Reserva Natural de la Defensa La Calera   \n",
       "2                      Sitio Ramsar Delta del Parana   \n",
       "\n",
       "                                  GNA  \n",
       "0  Sitio RAMSAR y Reserva Hemisférica  \n",
       "1       Reserva Natural de la Defensa  \n",
       "2                        Sitio Ramsar  "
      ]
     },
     "execution_count": 144,
     "metadata": {},
     "output_type": "execute_result"
    }
   ],
   "source": [
    "df_area_protegida_seven_columns.columns = ['Latitud','Longitud','GID', 'Entidad','Objeto', 'FNA', 'GNA']\n",
    "df_area_protegida_seven_columns.head(3)"
   ]
  },
  {
   "cell_type": "markdown",
   "metadata": {},
   "source": [
    "Es importante renombrar todas las columnas cuando utilizamos esta opción. También podríamos hacerlo renombrando una a una:"
   ]
  },
  {
   "cell_type": "code",
   "execution_count": 145,
   "metadata": {},
   "outputs": [
    {
     "data": {
      "text/html": [
       "<div>\n",
       "<style scoped>\n",
       "    .dataframe tbody tr th:only-of-type {\n",
       "        vertical-align: middle;\n",
       "    }\n",
       "\n",
       "    .dataframe tbody tr th {\n",
       "        vertical-align: top;\n",
       "    }\n",
       "\n",
       "    .dataframe thead th {\n",
       "        text-align: right;\n",
       "    }\n",
       "</style>\n",
       "<table border=\"1\" class=\"dataframe\">\n",
       "  <thead>\n",
       "    <tr style=\"text-align: right;\">\n",
       "      <th></th>\n",
       "      <th>Latitud</th>\n",
       "      <th>Longitud</th>\n",
       "      <th>GID</th>\n",
       "      <th>Entidad</th>\n",
       "      <th>Objeto</th>\n",
       "      <th>FNA</th>\n",
       "      <th>GNA</th>\n",
       "    </tr>\n",
       "  </thead>\n",
       "  <tbody>\n",
       "    <tr>\n",
       "      <th>0</th>\n",
       "      <td>-53.546655</td>\n",
       "      <td>-68.041297</td>\n",
       "      <td>362</td>\n",
       "      <td>falso</td>\n",
       "      <td>Área protegida</td>\n",
       "      <td>Sitio RAMSAR y Reserva Hemisférica Costa Atlán...</td>\n",
       "      <td>Sitio RAMSAR y Reserva Hemisférica</td>\n",
       "    </tr>\n",
       "    <tr>\n",
       "      <th>1</th>\n",
       "      <td>-31.404445</td>\n",
       "      <td>-64.357709</td>\n",
       "      <td>157</td>\n",
       "      <td>falso</td>\n",
       "      <td>Área protegida</td>\n",
       "      <td>Reserva Natural de la Defensa La Calera</td>\n",
       "      <td>Reserva Natural de la Defensa</td>\n",
       "    </tr>\n",
       "    <tr>\n",
       "      <th>2</th>\n",
       "      <td>-32.245004</td>\n",
       "      <td>-60.734423</td>\n",
       "      <td>169</td>\n",
       "      <td>falso</td>\n",
       "      <td>Área protegida</td>\n",
       "      <td>Sitio Ramsar Delta del Parana</td>\n",
       "      <td>Sitio Ramsar</td>\n",
       "    </tr>\n",
       "  </tbody>\n",
       "</table>\n",
       "</div>"
      ],
      "text/plain": [
       "     Latitud   Longitud  GID Entidad          Objeto  \\\n",
       "0 -53.546655 -68.041297  362   falso  Área protegida   \n",
       "1 -31.404445 -64.357709  157   falso  Área protegida   \n",
       "2 -32.245004 -60.734423  169   falso  Área protegida   \n",
       "\n",
       "                                                 FNA  \\\n",
       "0  Sitio RAMSAR y Reserva Hemisférica Costa Atlán...   \n",
       "1            Reserva Natural de la Defensa La Calera   \n",
       "2                      Sitio Ramsar Delta del Parana   \n",
       "\n",
       "                                  GNA  \n",
       "0  Sitio RAMSAR y Reserva Hemisférica  \n",
       "1       Reserva Natural de la Defensa  \n",
       "2                        Sitio Ramsar  "
      ]
     },
     "execution_count": 145,
     "metadata": {},
     "output_type": "execute_result"
    }
   ],
   "source": [
    "df_area_protegida_seven_columns.rename(columns={'Latitud': 'Lat'})\n",
    "df_area_protegida_seven_columns.head(3)"
   ]
  },
  {
   "cell_type": "code",
   "execution_count": 146,
   "metadata": {},
   "outputs": [
    {
     "name": "stderr",
     "output_type": "stream",
     "text": [
      "C:\\Users\\Santiago\\AppData\\Local\\Temp\\ipykernel_8880\\473832023.py:1: SettingWithCopyWarning: \n",
      "A value is trying to be set on a copy of a slice from a DataFrame\n",
      "\n",
      "See the caveats in the documentation: https://pandas.pydata.org/pandas-docs/stable/user_guide/indexing.html#returning-a-view-versus-a-copy\n",
      "  df_area_protegida_seven_columns.rename(columns={'Latitud': 'Lat'}, inplace=True)\n"
     ]
    },
    {
     "data": {
      "text/html": [
       "<div>\n",
       "<style scoped>\n",
       "    .dataframe tbody tr th:only-of-type {\n",
       "        vertical-align: middle;\n",
       "    }\n",
       "\n",
       "    .dataframe tbody tr th {\n",
       "        vertical-align: top;\n",
       "    }\n",
       "\n",
       "    .dataframe thead th {\n",
       "        text-align: right;\n",
       "    }\n",
       "</style>\n",
       "<table border=\"1\" class=\"dataframe\">\n",
       "  <thead>\n",
       "    <tr style=\"text-align: right;\">\n",
       "      <th></th>\n",
       "      <th>Lat</th>\n",
       "      <th>Longitud</th>\n",
       "      <th>GID</th>\n",
       "      <th>Entidad</th>\n",
       "      <th>Objeto</th>\n",
       "      <th>FNA</th>\n",
       "      <th>GNA</th>\n",
       "    </tr>\n",
       "  </thead>\n",
       "  <tbody>\n",
       "    <tr>\n",
       "      <th>0</th>\n",
       "      <td>-53.546655</td>\n",
       "      <td>-68.041297</td>\n",
       "      <td>362</td>\n",
       "      <td>falso</td>\n",
       "      <td>Área protegida</td>\n",
       "      <td>Sitio RAMSAR y Reserva Hemisférica Costa Atlán...</td>\n",
       "      <td>Sitio RAMSAR y Reserva Hemisférica</td>\n",
       "    </tr>\n",
       "    <tr>\n",
       "      <th>1</th>\n",
       "      <td>-31.404445</td>\n",
       "      <td>-64.357709</td>\n",
       "      <td>157</td>\n",
       "      <td>falso</td>\n",
       "      <td>Área protegida</td>\n",
       "      <td>Reserva Natural de la Defensa La Calera</td>\n",
       "      <td>Reserva Natural de la Defensa</td>\n",
       "    </tr>\n",
       "    <tr>\n",
       "      <th>2</th>\n",
       "      <td>-32.245004</td>\n",
       "      <td>-60.734423</td>\n",
       "      <td>169</td>\n",
       "      <td>falso</td>\n",
       "      <td>Área protegida</td>\n",
       "      <td>Sitio Ramsar Delta del Parana</td>\n",
       "      <td>Sitio Ramsar</td>\n",
       "    </tr>\n",
       "  </tbody>\n",
       "</table>\n",
       "</div>"
      ],
      "text/plain": [
       "         Lat   Longitud  GID Entidad          Objeto  \\\n",
       "0 -53.546655 -68.041297  362   falso  Área protegida   \n",
       "1 -31.404445 -64.357709  157   falso  Área protegida   \n",
       "2 -32.245004 -60.734423  169   falso  Área protegida   \n",
       "\n",
       "                                                 FNA  \\\n",
       "0  Sitio RAMSAR y Reserva Hemisférica Costa Atlán...   \n",
       "1            Reserva Natural de la Defensa La Calera   \n",
       "2                      Sitio Ramsar Delta del Parana   \n",
       "\n",
       "                                  GNA  \n",
       "0  Sitio RAMSAR y Reserva Hemisférica  \n",
       "1       Reserva Natural de la Defensa  \n",
       "2                        Sitio Ramsar  "
      ]
     },
     "execution_count": 146,
     "metadata": {},
     "output_type": "execute_result"
    }
   ],
   "source": [
    "df_area_protegida_seven_columns.rename(columns={'Latitud': 'Lat'}, inplace=True)\n",
    "df_area_protegida_seven_columns.head(3)"
   ]
  },
  {
   "cell_type": "markdown",
   "metadata": {},
   "source": [
    "<span style=\"color:green\">\n",
    "(e) En base a tu versión en pandas del código dado, describí al menos dos ventajas del\n",
    "uso de esta librería sobre el manejo de archivos csv. Si considerás que no las hay, indicá\n",
    "en qué te basás.\n",
    "</span>"
   ]
  },
  {
   "cell_type": "markdown",
   "metadata": {},
   "source": [
    "##### Ventajas: \n",
    "1. Facilidad en la consulta y exploración de datos: Mientras que csv casi que no permite una visualización de datos, con Pandas se pueden explorar los datos muy fácilmente con funciones como shape, info(), describe, dtypes, etc.\n",
    "2. Facilidad para analizar y transformar datos: Mientras que trabajando con csv debemos trabajar con los datos línea por línea (con listas o iterables), pandas ofrece funciones para filtrar y transformar datos en todas sus filas, asé como cambiar el tipo de dato (útil cuando tenemos valores nulos por ejemplo).\n",
    "3. Integración con bibliotecas de  visualización de datos (Matplotlib, Plotly, Folium)."
   ]
  }
 ],
 "metadata": {
  "kernelspec": {
   "display_name": "Python 3",
   "language": "python",
   "name": "python3"
  },
  "language_info": {
   "codemirror_mode": {
    "name": "ipython",
    "version": 3
   },
   "file_extension": ".py",
   "mimetype": "text/x-python",
   "name": "python",
   "nbconvert_exporter": "python",
   "pygments_lexer": "ipython3",
   "version": "3.11.7"
  }
 },
 "nbformat": 4,
 "nbformat_minor": 2
}
